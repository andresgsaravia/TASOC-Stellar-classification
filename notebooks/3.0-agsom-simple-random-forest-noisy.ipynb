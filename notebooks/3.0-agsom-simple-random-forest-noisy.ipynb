{
 "cells": [
  {
   "cell_type": "code",
   "execution_count": 1,
   "metadata": {},
   "outputs": [
    {
     "name": "stderr",
     "output_type": "stream",
     "text": [
      "Loading required package: rpart\n",
      "Loading required package: randomForest\n",
      "randomForest 4.6-12\n",
      "Type rfNews() to see new features/changes/bug fixes.\n",
      "Loading required package: RColorBrewer\n",
      "Loading required package: rattle\n",
      "Rattle: A free graphical interface for data mining with R.\n",
      "Versión 4.1.0 Copyright (c) 2006-2015 Togaware Pty Ltd.\n",
      "Escriba 'rattle()' para agitar, sacudir y  rotar sus datos.\n",
      "Loading required package: rpart.plot\n",
      "Loading required package: party\n",
      "Loading required package: grid\n",
      "Loading required package: mvtnorm\n",
      "Loading required package: modeltools\n",
      "Loading required package: stats4\n",
      "Loading required package: strucchange\n",
      "Loading required package: zoo\n",
      "\n",
      "Attaching package: ‘zoo’\n",
      "\n",
      "The following objects are masked from ‘package:base’:\n",
      "\n",
      "    as.Date, as.Date.numeric\n",
      "\n",
      "Loading required package: sandwich\n",
      "Loading required package: caret\n",
      "Loading required package: lattice\n",
      "Loading required package: ggplot2\n",
      "\n",
      "Attaching package: ‘ggplot2’\n",
      "\n",
      "The following object is masked from ‘package:randomForest’:\n",
      "\n",
      "    margin\n",
      "\n",
      "Warning message in brewer.pal(11, \"Oranges\"):\n",
      "“n too large, allowed maximum for palette Oranges is 9\n",
      "Returning the palette you asked for with that many colors\n",
      "”"
     ]
    }
   ],
   "source": [
    "require(rpart)\n",
    "require(randomForest)\n",
    "require(RColorBrewer)\n",
    "require(rattle)\n",
    "require(rpart.plot)\n",
    "require(party)\n",
    "require(caret)\n",
    "pal.img <- brewer.pal(11, \"Oranges\")"
   ]
  },
  {
   "cell_type": "code",
   "execution_count": 2,
   "metadata": {},
   "outputs": [],
   "source": [
    "set.seed(3)\n",
    "d.all <- read.csv(file.path(\"..\",\"data\", \"final\", \"noisy.csv\"))\n",
    "\n",
    "sample_size <- floor(0.75 * nrow(d.all))\n",
    "\n",
    "d.train_ind <- sample(seq_len(nrow(d.all)), size = sample_size)\n",
    "\n",
    "d.train <- d.all[d.train_ind, ]\n",
    "d.test  <- d.all[-d.train_ind, ]"
   ]
  },
  {
   "cell_type": "code",
   "execution_count": 3,
   "metadata": {},
   "outputs": [
    {
     "data": {
      "text/html": [
       "<table>\n",
       "<thead><tr><th scope=col>ID</th><th scope=col>magnitude</th><th scope=col>Cadence</th><th scope=col>duration</th><th scope=col>latitude</th><th scope=col>longitude</th><th scope=col>Teff</th><th scope=col>Teff_error</th><th scope=col>logg</th><th scope=col>logg_error</th><th scope=col>Type</th><th scope=col>var_lc</th><th scope=col>num_peaks</th><th scope=col>median_peaks</th><th scope=col>mad_peaks</th></tr></thead>\n",
       "<tbody>\n",
       "\t<tr><td>1                 </td><td> 7.6              </td><td>1800              </td><td>27.40             </td><td>23.83             </td><td>  1.70            </td><td> 5581             </td><td>200               </td><td>-999.00           </td><td>-999.0            </td><td>  Trans/Eclipse   </td><td>8.049337e+05      </td><td> 1                </td><td>25.48420          </td><td> 0.00000          </td></tr>\n",
       "\t<tr><td>2                 </td><td> 7.5              </td><td>1800              </td><td>27.38             </td><td>33.21             </td><td>332.88            </td><td> 6916             </td><td>300               </td><td>-999.00           </td><td>-999.0            </td><td>  Trans/Eclipse   </td><td>3.274895e+08      </td><td> 4                </td><td>34.50920          </td><td>21.47597          </td></tr>\n",
       "\t<tr><td>3                 </td><td>11.3              </td><td> 120              </td><td>27.40             </td><td>39.91             </td><td>128.06            </td><td>13121             </td><td>100               </td><td>   4.14           </td><td>   0.1            </td><td>  SPB             </td><td>2.941730e+03      </td><td> 8                </td><td>84.89471          </td><td>40.16292          </td></tr>\n",
       "\t<tr><td>4                 </td><td> 8.3              </td><td>1800              </td><td>27.38             </td><td>19.66             </td><td>235.53            </td><td> 7797             </td><td>200               </td><td>-999.00           </td><td>-999.0            </td><td>  Trans/Eclipse   </td><td>          NA      </td><td>NA                </td><td>      NA          </td><td>      NA          </td></tr>\n",
       "\t<tr><td>5                 </td><td>12.7              </td><td>1800              </td><td>54.77             </td><td>56.89             </td><td>243.21            </td><td> 7305             </td><td>239               </td><td>   4.17           </td><td>   0.4            </td><td>  dSct+gDor hybrid</td><td>4.176992e+01      </td><td> 4                </td><td>18.12977          </td><td>15.56164          </td></tr>\n",
       "\t<tr><td>6                 </td><td>16.2              </td><td>1800              </td><td>27.40             </td><td>14.13             </td><td> 27.02            </td><td> 4633             </td><td>200               </td><td>   2.98           </td><td>   0.1            </td><td>  Solar-like      </td><td>3.351859e-01      </td><td> 2                </td><td>11.25552          </td><td>14.16858          </td></tr>\n",
       "</tbody>\n",
       "</table>\n"
      ],
      "text/latex": [
       "\\begin{tabular}{r|lllllllllllllll}\n",
       " ID & magnitude & Cadence & duration & latitude & longitude & Teff & Teff\\_error & logg & logg\\_error & Type & var\\_lc & num\\_peaks & median\\_peaks & mad\\_peaks\\\\\n",
       "\\hline\n",
       "\t 1                  &  7.6               & 1800               & 27.40              & 23.83              &   1.70             &  5581              & 200                & -999.00            & -999.0             &   Trans/Eclipse    & 8.049337e+05       &  1                 & 25.48420           &  0.00000          \\\\\n",
       "\t 2                  &  7.5               & 1800               & 27.38              & 33.21              & 332.88             &  6916              & 300                & -999.00            & -999.0             &   Trans/Eclipse    & 3.274895e+08       &  4                 & 34.50920           & 21.47597          \\\\\n",
       "\t 3                  & 11.3               &  120               & 27.40              & 39.91              & 128.06             & 13121              & 100                &    4.14            &    0.1             &   SPB              & 2.941730e+03       &  8                 & 84.89471           & 40.16292          \\\\\n",
       "\t 4                  &  8.3               & 1800               & 27.38              & 19.66              & 235.53             &  7797              & 200                & -999.00            & -999.0             &   Trans/Eclipse    &           NA       & NA                 &       NA           &       NA          \\\\\n",
       "\t 5                  & 12.7               & 1800               & 54.77              & 56.89              & 243.21             &  7305              & 239                &    4.17            &    0.4             &   dSct+gDor hybrid & 4.176992e+01       &  4                 & 18.12977           & 15.56164          \\\\\n",
       "\t 6                  & 16.2               & 1800               & 27.40              & 14.13              &  27.02             &  4633              & 200                &    2.98            &    0.1             &   Solar-like       & 3.351859e-01       &  2                 & 11.25552           & 14.16858          \\\\\n",
       "\\end{tabular}\n"
      ],
      "text/markdown": [
       "\n",
       "ID | magnitude | Cadence | duration | latitude | longitude | Teff | Teff_error | logg | logg_error | Type | var_lc | num_peaks | median_peaks | mad_peaks | \n",
       "|---|---|---|---|---|---|\n",
       "| 1                  |  7.6               | 1800               | 27.40              | 23.83              |   1.70             |  5581              | 200                | -999.00            | -999.0             |   Trans/Eclipse    | 8.049337e+05       |  1                 | 25.48420           |  0.00000           | \n",
       "| 2                  |  7.5               | 1800               | 27.38              | 33.21              | 332.88             |  6916              | 300                | -999.00            | -999.0             |   Trans/Eclipse    | 3.274895e+08       |  4                 | 34.50920           | 21.47597           | \n",
       "| 3                  | 11.3               |  120               | 27.40              | 39.91              | 128.06             | 13121              | 100                |    4.14            |    0.1             |   SPB              | 2.941730e+03       |  8                 | 84.89471           | 40.16292           | \n",
       "| 4                  |  8.3               | 1800               | 27.38              | 19.66              | 235.53             |  7797              | 200                | -999.00            | -999.0             |   Trans/Eclipse    |           NA       | NA                 |       NA           |       NA           | \n",
       "| 5                  | 12.7               | 1800               | 54.77              | 56.89              | 243.21             |  7305              | 239                |    4.17            |    0.4             |   dSct+gDor hybrid | 4.176992e+01       |  4                 | 18.12977           | 15.56164           | \n",
       "| 6                  | 16.2               | 1800               | 27.40              | 14.13              |  27.02             |  4633              | 200                |    2.98            |    0.1             |   Solar-like       | 3.351859e-01       |  2                 | 11.25552           | 14.16858           | \n",
       "\n",
       "\n"
      ],
      "text/plain": [
       "  ID magnitude Cadence duration latitude longitude Teff  Teff_error logg   \n",
       "1 1   7.6      1800    27.40    23.83      1.70     5581 200        -999.00\n",
       "2 2   7.5      1800    27.38    33.21    332.88     6916 300        -999.00\n",
       "3 3  11.3       120    27.40    39.91    128.06    13121 100           4.14\n",
       "4 4   8.3      1800    27.38    19.66    235.53     7797 200        -999.00\n",
       "5 5  12.7      1800    54.77    56.89    243.21     7305 239           4.17\n",
       "6 6  16.2      1800    27.40    14.13     27.02     4633 200           2.98\n",
       "  logg_error Type               var_lc       num_peaks median_peaks mad_peaks\n",
       "1 -999.0       Trans/Eclipse    8.049337e+05  1        25.48420      0.00000 \n",
       "2 -999.0       Trans/Eclipse    3.274895e+08  4        34.50920     21.47597 \n",
       "3    0.1       SPB              2.941730e+03  8        84.89471     40.16292 \n",
       "4 -999.0       Trans/Eclipse              NA NA              NA           NA \n",
       "5    0.4       dSct+gDor hybrid 4.176992e+01  4        18.12977     15.56164 \n",
       "6    0.1       Solar-like       3.351859e-01  2        11.25552     14.16858 "
      ]
     },
     "metadata": {},
     "output_type": "display_data"
    }
   ],
   "source": [
    "head(d.all)"
   ]
  },
  {
   "cell_type": "markdown",
   "metadata": {},
   "source": [
    "## Simple decision tree"
   ]
  },
  {
   "cell_type": "code",
   "execution_count": 4,
   "metadata": {},
   "outputs": [
    {
     "name": "stderr",
     "output_type": "stream",
     "text": [
      "Warning message in polygon(x[, i], y[, i], col = col[i], border = border.col[i], :\n",
      "“semi-transparencia no esta soportado en este dispositivo: reportado solo una vez por pagina”"
     ]
    },
    {
     "data": {
      "image/png": "[encoded data removed]",
      "text/plain": [
       "Plot with title “”"
      ]
     },
     "metadata": {},
     "output_type": "display_data"
    }
   ],
   "source": [
    "fit.tree <- rpart(Type ~ magnitude + Teff + logg + var_lc + num_peaks + median_peaks + mad_peaks,\n",
    "                  data = d.train, method = \"class\")\n",
    "fit.tree.prediction <- predict(fit.tree, d.test, type = \"class\")\n",
    "fancyRpartPlot(fit.tree)"
   ]
  },
  {
   "cell_type": "code",
   "execution_count": 5,
   "metadata": {},
   "outputs": [
    {
     "data": {
      "text/html": [
       "'Training error: 78.08 %'"
      ],
      "text/latex": [
       "'Training error: 78.08 \\%'"
      ],
      "text/markdown": [
       "'Training error: 78.08 %'"
      ],
      "text/plain": [
       "[1] \"Training error: 78.08 %\""
      ]
     },
     "metadata": {},
     "output_type": "display_data"
    },
    {
     "data": {
      "text/html": [
       "'Prediction error: 75.04 %'"
      ],
      "text/latex": [
       "'Prediction error: 75.04 \\%'"
      ],
      "text/markdown": [
       "'Prediction error: 75.04 %'"
      ],
      "text/plain": [
       "[1] \"Prediction error: 75.04 %\""
      ]
     },
     "metadata": {},
     "output_type": "display_data"
    }
   ],
   "source": [
    "paste(\"Training error:\",\n",
    "      sum(predict(fit.tree, d.train, type = \"class\") == d.train$Type) / nrow(d.train) * 100, \"%\")\n",
    "paste(\"Prediction error:\",\n",
    "      sum(predict(fit.tree, d.test, type = \"class\") == d.test$Type) / nrow(d.test) * 100, \"%\")"
   ]
  },
  {
   "cell_type": "markdown",
   "metadata": {},
   "source": [
    "## Random forest"
   ]
  },
  {
   "cell_type": "code",
   "execution_count": 6,
   "metadata": {},
   "outputs": [],
   "source": [
    "d.all.fix <- na.roughfix(d.all)\n",
    "d.train <- d.all.fix[d.train_ind, ]\n",
    "d.test  <- d.all.fix[-d.train_ind, ]"
   ]
  },
  {
   "cell_type": "code",
   "execution_count": 7,
   "metadata": {},
   "outputs": [
    {
     "data": {
      "image/png": "[encoded data removed]",
      "text/plain": [
       "plot without title"
      ]
     },
     "metadata": {},
     "output_type": "display_data"
    }
   ],
   "source": [
    "d.fitRF <- randomForest(Type ~ magnitude + Teff + logg + num_peaks + var_lc + median_peaks + mad_peaks,\n",
    "                        data = d.train,\n",
    "                        importance = TRUE, ntree = 2000)\n",
    "varImpPlot(d.fitRF)"
   ]
  },
  {
   "cell_type": "markdown",
   "metadata": {},
   "source": [
    "### Confusion matrix"
   ]
  },
  {
   "cell_type": "code",
   "execution_count": 8,
   "metadata": {},
   "outputs": [
    {
     "data": {
      "image/png": "[encoded data removed]",
      "text/plain": [
       "plot without title"
      ]
     },
     "metadata": {},
     "output_type": "display_data"
    }
   ],
   "source": [
    "cm <- as.matrix(confusionMatrix(reference = d.all$Type, data = predict(d.fitRF, d.all, type = \"class\"))$table)\n",
    "image(1:ncol(cm), 1:nrow(cm), log(1+cm), col = pal.img, axes=FALSE,xlab=\"\",ylab=\"\",srt=45)\n",
    "axis(1, at = 1:ncol(cm), labels=colnames(cm),srt=45,tick=FALSE, cex.axis = 0.4)\n",
    "axis(2, at = 1:nrow(cm), labels=rownames(cm),srt=45,tick=FALSE, cex.axis = 0.4)"
   ]
  },
  {
   "cell_type": "code",
   "execution_count": 9,
   "metadata": {},
   "outputs": [
    {
     "data": {
      "text/html": [
       "'Training error: 99.0933333333333 %'"
      ],
      "text/latex": [
       "'Training error: 99.0933333333333 \\%'"
      ],
      "text/markdown": [
       "'Training error: 99.0933333333333 %'"
      ],
      "text/plain": [
       "[1] \"Training error: 99.0933333333333 %\""
      ]
     },
     "metadata": {},
     "output_type": "display_data"
    },
    {
     "data": {
      "text/html": [
       "'Prediction error: 83.2 %'"
      ],
      "text/latex": [
       "'Prediction error: 83.2 \\%'"
      ],
      "text/markdown": [
       "'Prediction error: 83.2 %'"
      ],
      "text/plain": [
       "[1] \"Prediction error: 83.2 %\""
      ]
     },
     "metadata": {},
     "output_type": "display_data"
    }
   ],
   "source": [
    "paste(\"Training error:\",\n",
    "      sum(predict(d.fitRF, newdata = d.train) == d.train$Type) / nrow(d.train) * 100, \"%\")\n",
    "paste(\"Prediction error:\",\n",
    "      sum(predict(d.fitRF, newdata = d.test) == d.test$Type) / nrow(d.test) * 100, \"%\")"
   ]
  },
  {
   "cell_type": "code",
   "execution_count": null,
   "metadata": {
    "collapsed": true
   },
   "outputs": [],
   "source": []
  }
 ],
 "metadata": {
  "kernelspec": {
   "display_name": "R",
   "language": "R",
   "name": "ir"
  },
  "language_info": {
   "codemirror_mode": "r",
   "file_extension": ".r",
   "mimetype": "text/x-r-source",
   "name": "R",
   "pygments_lexer": "r",
   "version": "3.4.0"
  }
 },
 "nbformat": 4,
 "nbformat_minor": 2
}
