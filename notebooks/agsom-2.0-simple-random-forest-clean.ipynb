{
 "cells": [
  {
   "cell_type": "code",
   "execution_count": 1,
   "metadata": {},
   "outputs": [
    {
     "name": "stderr",
     "output_type": "stream",
     "text": [
      "Loading required package: rpart\n",
      "Loading required package: randomForest\n",
      "randomForest 4.6-12\n",
      "Type rfNews() to see new features/changes/bug fixes.\n",
      "Loading required package: RColorBrewer\n",
      "Loading required package: rattle\n",
      "Rattle: A free graphical interface for data mining with R.\n",
      "Versión 4.1.0 Copyright (c) 2006-2015 Togaware Pty Ltd.\n",
      "Escriba 'rattle()' para agitar, sacudir y  rotar sus datos.\n",
      "Loading required package: rpart.plot\n",
      "Loading required package: party\n",
      "Loading required package: grid\n",
      "Loading required package: mvtnorm\n",
      "Loading required package: modeltools\n",
      "Loading required package: stats4\n",
      "Loading required package: strucchange\n",
      "Loading required package: zoo\n",
      "\n",
      "Attaching package: ‘zoo’\n",
      "\n",
      "The following objects are masked from ‘package:base’:\n",
      "\n",
      "    as.Date, as.Date.numeric\n",
      "\n",
      "Loading required package: sandwich\n"
     ]
    }
   ],
   "source": [
    "require(rpart)\n",
    "require(randomForest)\n",
    "require(RColorBrewer)\n",
    "require(rattle)\n",
    "require(rpart.plot)\n",
    "require(party)"
   ]
  },
  {
   "cell_type": "code",
   "execution_count": 2,
   "metadata": {},
   "outputs": [
    {
     "data": {
      "text/html": [
       "<table>\n",
       "<thead><tr><th scope=col>ID</th><th scope=col>magnitude</th><th scope=col>Cadence</th><th scope=col>duration</th><th scope=col>latitude</th><th scope=col>longitude</th><th scope=col>Teff</th><th scope=col>Teff_error</th><th scope=col>logg</th><th scope=col>logg_error</th><th scope=col>Type</th><th scope=col>var_lc</th><th scope=col>num_peaks</th><th scope=col>median_peaks</th><th scope=col>mad_peaks</th></tr></thead>\n",
       "<tbody>\n",
       "\t<tr><td>1             </td><td>16.8          </td><td>1800          </td><td>27.38         </td><td> 9.84         </td><td>108.10        </td><td> 4354         </td><td>300           </td><td>-999.00       </td><td>-999.00       </td><td> Trans/Eclipse</td><td>2.572494e+00  </td><td>  2           </td><td>  29.86858    </td><td>  41.75269    </td></tr>\n",
       "\t<tr><td>2             </td><td> 6.0          </td><td>1800          </td><td>82.17         </td><td>65.38         </td><td>108.08        </td><td> 8000         </td><td>200           </td><td>-999.00       </td><td>-999.00       </td><td> Trans/Eclipse</td><td>9.459850e+05  </td><td> 19           </td><td>  57.12909    </td><td>  55.69576    </td></tr>\n",
       "\t<tr><td>3             </td><td>15.5          </td><td>1800          </td><td>27.37         </td><td>49.41         </td><td>246.24        </td><td> 2754         </td><td>250           </td><td>-999.00       </td><td>-999.00       </td><td> LPV;MIRA     </td><td>2.589982e+02  </td><td>  2           </td><td>  31.12475    </td><td>  11.37836    </td></tr>\n",
       "\t<tr><td>4             </td><td>13.8          </td><td> 120          </td><td>27.40         </td><td>42.44         </td><td>226.11        </td><td>16160         </td><td>130           </td><td>   3.91       </td><td>   0.16       </td><td> SPB          </td><td>4.066555e+01  </td><td>  9           </td><td> 127.49338    </td><td>  68.59015    </td></tr>\n",
       "\t<tr><td>5             </td><td>14.6          </td><td>  20          </td><td>27.40         </td><td>52.68         </td><td>180.44        </td><td> 8000         </td><td>200           </td><td>-999.00       </td><td>-999.00       </td><td> Trans/Eclipse</td><td>1.204713e-01  </td><td>611           </td><td>4899.64632    </td><td>4507.44102    </td></tr>\n",
       "\t<tr><td>6             </td><td>10.3          </td><td>1800          </td><td>54.79         </td><td>40.29         </td><td>283.81        </td><td> 2780         </td><td>250           </td><td>-999.00       </td><td>-999.00       </td><td> LPV;MIRA     </td><td>6.048815e+06  </td><td>  2           </td><td>  28.92632    </td><td>  14.50562    </td></tr>\n",
       "</tbody>\n",
       "</table>\n"
      ],
      "text/latex": [
       "\\begin{tabular}{r|lllllllllllllll}\n",
       " ID & magnitude & Cadence & duration & latitude & longitude & Teff & Teff\\_error & logg & logg\\_error & Type & var\\_lc & num\\_peaks & median\\_peaks & mad\\_peaks\\\\\n",
       "\\hline\n",
       "\t 1              & 16.8           & 1800           & 27.38          &  9.84          & 108.10         &  4354          & 300            & -999.00        & -999.00        &  Trans/Eclipse & 2.572494e+00   &   2            &   29.86858     &   41.75269    \\\\\n",
       "\t 2              &  6.0           & 1800           & 82.17          & 65.38          & 108.08         &  8000          & 200            & -999.00        & -999.00        &  Trans/Eclipse & 9.459850e+05   &  19            &   57.12909     &   55.69576    \\\\\n",
       "\t 3              & 15.5           & 1800           & 27.37          & 49.41          & 246.24         &  2754          & 250            & -999.00        & -999.00        &  LPV;MIRA      & 2.589982e+02   &   2            &   31.12475     &   11.37836    \\\\\n",
       "\t 4              & 13.8           &  120           & 27.40          & 42.44          & 226.11         & 16160          & 130            &    3.91        &    0.16        &  SPB           & 4.066555e+01   &   9            &  127.49338     &   68.59015    \\\\\n",
       "\t 5              & 14.6           &   20           & 27.40          & 52.68          & 180.44         &  8000          & 200            & -999.00        & -999.00        &  Trans/Eclipse & 1.204713e-01   & 611            & 4899.64632     & 4507.44102    \\\\\n",
       "\t 6              & 10.3           & 1800           & 54.79          & 40.29          & 283.81         &  2780          & 250            & -999.00        & -999.00        &  LPV;MIRA      & 6.048815e+06   &   2            &   28.92632     &   14.50562    \\\\\n",
       "\\end{tabular}\n"
      ],
      "text/markdown": [
       "\n",
       "ID | magnitude | Cadence | duration | latitude | longitude | Teff | Teff_error | logg | logg_error | Type | var_lc | num_peaks | median_peaks | mad_peaks | \n",
       "|---|---|---|---|---|---|\n",
       "| 1              | 16.8           | 1800           | 27.38          |  9.84          | 108.10         |  4354          | 300            | -999.00        | -999.00        |  Trans/Eclipse | 2.572494e+00   |   2            |   29.86858     |   41.75269     | \n",
       "| 2              |  6.0           | 1800           | 82.17          | 65.38          | 108.08         |  8000          | 200            | -999.00        | -999.00        |  Trans/Eclipse | 9.459850e+05   |  19            |   57.12909     |   55.69576     | \n",
       "| 3              | 15.5           | 1800           | 27.37          | 49.41          | 246.24         |  2754          | 250            | -999.00        | -999.00        |  LPV;MIRA      | 2.589982e+02   |   2            |   31.12475     |   11.37836     | \n",
       "| 4              | 13.8           |  120           | 27.40          | 42.44          | 226.11         | 16160          | 130            |    3.91        |    0.16        |  SPB           | 4.066555e+01   |   9            |  127.49338     |   68.59015     | \n",
       "| 5              | 14.6           |   20           | 27.40          | 52.68          | 180.44         |  8000          | 200            | -999.00        | -999.00        |  Trans/Eclipse | 1.204713e-01   | 611            | 4899.64632     | 4507.44102     | \n",
       "| 6              | 10.3           | 1800           | 54.79          | 40.29          | 283.81         |  2780          | 250            | -999.00        | -999.00        |  LPV;MIRA      | 6.048815e+06   |   2            |   28.92632     |   14.50562     | \n",
       "\n",
       "\n"
      ],
      "text/plain": [
       "  ID magnitude Cadence duration latitude longitude Teff  Teff_error logg   \n",
       "1 1  16.8      1800    27.38     9.84    108.10     4354 300        -999.00\n",
       "2 2   6.0      1800    82.17    65.38    108.08     8000 200        -999.00\n",
       "3 3  15.5      1800    27.37    49.41    246.24     2754 250        -999.00\n",
       "4 4  13.8       120    27.40    42.44    226.11    16160 130           3.91\n",
       "5 5  14.6        20    27.40    52.68    180.44     8000 200        -999.00\n",
       "6 6  10.3      1800    54.79    40.29    283.81     2780 250        -999.00\n",
       "  logg_error Type           var_lc       num_peaks median_peaks mad_peaks \n",
       "1 -999.00     Trans/Eclipse 2.572494e+00   2         29.86858     41.75269\n",
       "2 -999.00     Trans/Eclipse 9.459850e+05  19         57.12909     55.69576\n",
       "3 -999.00     LPV;MIRA      2.589982e+02   2         31.12475     11.37836\n",
       "4    0.16     SPB           4.066555e+01   9        127.49338     68.59015\n",
       "5 -999.00     Trans/Eclipse 1.204713e-01 611       4899.64632   4507.44102\n",
       "6 -999.00     LPV;MIRA      6.048815e+06   2         28.92632     14.50562"
      ]
     },
     "metadata": {},
     "output_type": "display_data"
    }
   ],
   "source": [
    "d.all <- read.csv(file.path(\"..\",\"data\", \"final\", \"clean.csv\"))\n",
    "head(d.all)"
   ]
  },
  {
   "cell_type": "code",
   "execution_count": 3,
   "metadata": {
    "collapsed": true
   },
   "outputs": [],
   "source": [
    "set.seed(1)\n",
    "\n",
    "sample_size <- floor(0.75 * nrow(d.all))\n",
    "\n",
    "d.train_ind <- sample(seq_len(nrow(d.all)), size = sample_size)\n",
    "\n",
    "d.train <- d.all[d.train_ind, ]\n",
    "d.test  <- d.all[-d.train_ind, ]"
   ]
  },
  {
   "cell_type": "code",
   "execution_count": 4,
   "metadata": {},
   "outputs": [
    {
     "data": {
      "text/html": [
       "<table>\n",
       "<thead><tr><th scope=col>ID</th><th scope=col>magnitude</th><th scope=col>Cadence</th><th scope=col>duration</th><th scope=col>latitude</th><th scope=col>longitude</th><th scope=col>Teff</th><th scope=col>Teff_error</th><th scope=col>logg</th><th scope=col>logg_error</th><th scope=col>Type</th><th scope=col>var_lc</th><th scope=col>num_peaks</th><th scope=col>median_peaks</th><th scope=col>mad_peaks</th></tr></thead>\n",
       "<tbody>\n",
       "\t<tr><td>1             </td><td>16.8          </td><td>1800          </td><td>27.38         </td><td> 9.84         </td><td>108.10        </td><td> 4354         </td><td>300           </td><td>-999.00       </td><td>-999.00       </td><td> Trans/Eclipse</td><td>2.572494e+00  </td><td>  2           </td><td>  29.86858    </td><td>  41.75269    </td></tr>\n",
       "\t<tr><td>2             </td><td> 6.0          </td><td>1800          </td><td>82.17         </td><td>65.38         </td><td>108.08        </td><td> 8000         </td><td>200           </td><td>-999.00       </td><td>-999.00       </td><td> Trans/Eclipse</td><td>9.459850e+05  </td><td> 19           </td><td>  57.12909    </td><td>  55.69576    </td></tr>\n",
       "\t<tr><td>3             </td><td>15.5          </td><td>1800          </td><td>27.37         </td><td>49.41         </td><td>246.24        </td><td> 2754         </td><td>250           </td><td>-999.00       </td><td>-999.00       </td><td> LPV;MIRA     </td><td>2.589982e+02  </td><td>  2           </td><td>  31.12475    </td><td>  11.37836    </td></tr>\n",
       "\t<tr><td>4             </td><td>13.8          </td><td> 120          </td><td>27.40         </td><td>42.44         </td><td>226.11        </td><td>16160         </td><td>130           </td><td>   3.91       </td><td>   0.16       </td><td> SPB          </td><td>4.066555e+01  </td><td>  9           </td><td> 127.49338    </td><td>  68.59015    </td></tr>\n",
       "\t<tr><td>5             </td><td>14.6          </td><td>  20          </td><td>27.40         </td><td>52.68         </td><td>180.44        </td><td> 8000         </td><td>200           </td><td>-999.00       </td><td>-999.00       </td><td> Trans/Eclipse</td><td>1.204713e-01  </td><td>611           </td><td>4899.64632    </td><td>4507.44102    </td></tr>\n",
       "\t<tr><td>6             </td><td>10.3          </td><td>1800          </td><td>54.79         </td><td>40.29         </td><td>283.81        </td><td> 2780         </td><td>250           </td><td>-999.00       </td><td>-999.00       </td><td> LPV;MIRA     </td><td>6.048815e+06  </td><td>  2           </td><td>  28.92632    </td><td>  14.50562    </td></tr>\n",
       "</tbody>\n",
       "</table>\n"
      ],
      "text/latex": [
       "\\begin{tabular}{r|lllllllllllllll}\n",
       " ID & magnitude & Cadence & duration & latitude & longitude & Teff & Teff\\_error & logg & logg\\_error & Type & var\\_lc & num\\_peaks & median\\_peaks & mad\\_peaks\\\\\n",
       "\\hline\n",
       "\t 1              & 16.8           & 1800           & 27.38          &  9.84          & 108.10         &  4354          & 300            & -999.00        & -999.00        &  Trans/Eclipse & 2.572494e+00   &   2            &   29.86858     &   41.75269    \\\\\n",
       "\t 2              &  6.0           & 1800           & 82.17          & 65.38          & 108.08         &  8000          & 200            & -999.00        & -999.00        &  Trans/Eclipse & 9.459850e+05   &  19            &   57.12909     &   55.69576    \\\\\n",
       "\t 3              & 15.5           & 1800           & 27.37          & 49.41          & 246.24         &  2754          & 250            & -999.00        & -999.00        &  LPV;MIRA      & 2.589982e+02   &   2            &   31.12475     &   11.37836    \\\\\n",
       "\t 4              & 13.8           &  120           & 27.40          & 42.44          & 226.11         & 16160          & 130            &    3.91        &    0.16        &  SPB           & 4.066555e+01   &   9            &  127.49338     &   68.59015    \\\\\n",
       "\t 5              & 14.6           &   20           & 27.40          & 52.68          & 180.44         &  8000          & 200            & -999.00        & -999.00        &  Trans/Eclipse & 1.204713e-01   & 611            & 4899.64632     & 4507.44102    \\\\\n",
       "\t 6              & 10.3           & 1800           & 54.79          & 40.29          & 283.81         &  2780          & 250            & -999.00        & -999.00        &  LPV;MIRA      & 6.048815e+06   &   2            &   28.92632     &   14.50562    \\\\\n",
       "\\end{tabular}\n"
      ],
      "text/markdown": [
       "\n",
       "ID | magnitude | Cadence | duration | latitude | longitude | Teff | Teff_error | logg | logg_error | Type | var_lc | num_peaks | median_peaks | mad_peaks | \n",
       "|---|---|---|---|---|---|\n",
       "| 1              | 16.8           | 1800           | 27.38          |  9.84          | 108.10         |  4354          | 300            | -999.00        | -999.00        |  Trans/Eclipse | 2.572494e+00   |   2            |   29.86858     |   41.75269     | \n",
       "| 2              |  6.0           | 1800           | 82.17          | 65.38          | 108.08         |  8000          | 200            | -999.00        | -999.00        |  Trans/Eclipse | 9.459850e+05   |  19            |   57.12909     |   55.69576     | \n",
       "| 3              | 15.5           | 1800           | 27.37          | 49.41          | 246.24         |  2754          | 250            | -999.00        | -999.00        |  LPV;MIRA      | 2.589982e+02   |   2            |   31.12475     |   11.37836     | \n",
       "| 4              | 13.8           |  120           | 27.40          | 42.44          | 226.11         | 16160          | 130            |    3.91        |    0.16        |  SPB           | 4.066555e+01   |   9            |  127.49338     |   68.59015     | \n",
       "| 5              | 14.6           |   20           | 27.40          | 52.68          | 180.44         |  8000          | 200            | -999.00        | -999.00        |  Trans/Eclipse | 1.204713e-01   | 611            | 4899.64632     | 4507.44102     | \n",
       "| 6              | 10.3           | 1800           | 54.79          | 40.29          | 283.81         |  2780          | 250            | -999.00        | -999.00        |  LPV;MIRA      | 6.048815e+06   |   2            |   28.92632     |   14.50562     | \n",
       "\n",
       "\n"
      ],
      "text/plain": [
       "  ID magnitude Cadence duration latitude longitude Teff  Teff_error logg   \n",
       "1 1  16.8      1800    27.38     9.84    108.10     4354 300        -999.00\n",
       "2 2   6.0      1800    82.17    65.38    108.08     8000 200        -999.00\n",
       "3 3  15.5      1800    27.37    49.41    246.24     2754 250        -999.00\n",
       "4 4  13.8       120    27.40    42.44    226.11    16160 130           3.91\n",
       "5 5  14.6        20    27.40    52.68    180.44     8000 200        -999.00\n",
       "6 6  10.3      1800    54.79    40.29    283.81     2780 250        -999.00\n",
       "  logg_error Type           var_lc       num_peaks median_peaks mad_peaks \n",
       "1 -999.00     Trans/Eclipse 2.572494e+00   2         29.86858     41.75269\n",
       "2 -999.00     Trans/Eclipse 9.459850e+05  19         57.12909     55.69576\n",
       "3 -999.00     LPV;MIRA      2.589982e+02   2         31.12475     11.37836\n",
       "4    0.16     SPB           4.066555e+01   9        127.49338     68.59015\n",
       "5 -999.00     Trans/Eclipse 1.204713e-01 611       4899.64632   4507.44102\n",
       "6 -999.00     LPV;MIRA      6.048815e+06   2         28.92632     14.50562"
      ]
     },
     "metadata": {},
     "output_type": "display_data"
    }
   ],
   "source": [
    "head(d.all)"
   ]
  },
  {
   "cell_type": "markdown",
   "metadata": {},
   "source": [
    "## Simple decision tree"
   ]
  },
  {
   "cell_type": "code",
   "execution_count": 5,
   "metadata": {},
   "outputs": [
    {
     "name": "stderr",
     "output_type": "stream",
     "text": [
      "Warning message in polygon(x[, i], y[, i], col = col[i], border = border.col[i], :\n",
      "“semi-transparencia no esta soportado en este dispositivo: reportado solo una vez por pagina”"
     ]
    },
    {
     "data": {
      "image/png": "[encoded data removed]",
      "text/plain": [
       "Plot with title “”"
      ]
     },
     "metadata": {},
     "output_type": "display_data"
    }
   ],
   "source": [
    "fit.tree <- rpart(Type ~ magnitude + Teff + logg + num_peaks + median_peaks + mad_peaks,\n",
    "                  data = d.train, method = \"class\")\n",
    "fit.tree.prediction <- predict(fit.tree, d.test, type = \"class\")\n",
    "fancyRpartPlot(fit.tree)"
   ]
  },
  {
   "cell_type": "code",
   "execution_count": 6,
   "metadata": {},
   "outputs": [
    {
     "data": {
      "text/html": [
       "'Training accuracy: 79.52 %'"
      ],
      "text/latex": [
       "'Training accuracy: 79.52 \\%'"
      ],
      "text/markdown": [
       "'Training accuracy: 79.52 %'"
      ],
      "text/plain": [
       "[1] \"Training accuracy: 79.52 %\""
      ]
     },
     "metadata": {},
     "output_type": "display_data"
    },
    {
     "data": {
      "text/html": [
       "'Prediction accuracy: 79.2 %'"
      ],
      "text/latex": [
       "'Prediction accuracy: 79.2 \\%'"
      ],
      "text/markdown": [
       "'Prediction accuracy: 79.2 %'"
      ],
      "text/plain": [
       "[1] \"Prediction accuracy: 79.2 %\""
      ]
     },
     "metadata": {},
     "output_type": "display_data"
    }
   ],
   "source": [
    "paste(\"Training accuracy:\",\n",
    "      sum(predict(fit.tree, d.train, type = \"class\") == d.train$Type) / nrow(d.train) * 100, \"%\")\n",
    "paste(\"Prediction accuracy:\",\n",
    "      sum(predict(fit.tree, d.test, type = \"class\") == d.test$Type) / nrow(d.test) * 100, \"%\")"
   ]
  },
  {
   "cell_type": "markdown",
   "metadata": {},
   "source": [
    "## Random forest"
   ]
  },
  {
   "cell_type": "code",
   "execution_count": 7,
   "metadata": {
    "collapsed": true
   },
   "outputs": [],
   "source": [
    "d.train[is.na(d.train$num_peaks), \"median_peaks\"] <- 0\n",
    "d.train[is.na(d.train$num_peaks), \"mad_peaks\"] <- 0\n",
    "d.train[is.na(d.train$num_peaks), \"num_peaks\"] <- 0\n",
    "\n",
    "d.test[is.na(d.test$num_peaks), \"median_peaks\"] <- 0\n",
    "d.test[is.na(d.test$num_peaks), \"mad_peaks\"] <- 0\n",
    "d.test[is.na(d.test$num_peaks), \"num_peaks\"] <- 0"
   ]
  },
  {
   "cell_type": "markdown",
   "metadata": {},
   "source": [
    "### Feature importances"
   ]
  },
  {
   "cell_type": "code",
   "execution_count": 8,
   "metadata": {},
   "outputs": [
    {
     "data": {
      "image/png": "[encoded data removed]",
      "text/plain": [
       "plot without title"
      ]
     },
     "metadata": {},
     "output_type": "display_data"
    }
   ],
   "source": [
    "d.fitRF <- randomForest(Type ~ magnitude + Teff + logg + num_peaks + median_peaks + mad_peaks,\n",
    "                        data = d.train,\n",
    "                        importance = TRUE, ntree = 2000)\n",
    "varImpPlot(d.fitRF)"
   ]
  },
  {
   "cell_type": "code",
   "execution_count": 9,
   "metadata": {},
   "outputs": [
    {
     "data": {
      "text/html": [
       "'Training accuracy: 99.4133333333333 %'"
      ],
      "text/latex": [
       "'Training accuracy: 99.4133333333333 \\%'"
      ],
      "text/markdown": [
       "'Training accuracy: 99.4133333333333 %'"
      ],
      "text/plain": [
       "[1] \"Training accuracy: 99.4133333333333 %\""
      ]
     },
     "metadata": {},
     "output_type": "display_data"
    },
    {
     "data": {
      "text/html": [
       "'Prediction accuracy: 86.72 %'"
      ],
      "text/latex": [
       "'Prediction accuracy: 86.72 \\%'"
      ],
      "text/markdown": [
       "'Prediction accuracy: 86.72 %'"
      ],
      "text/plain": [
       "[1] \"Prediction accuracy: 86.72 %\""
      ]
     },
     "metadata": {},
     "output_type": "display_data"
    }
   ],
   "source": [
    "## Make the predictions\n",
    "paste(\"Training accuracy:\",\n",
    "      sum(predict(d.fitRF, d.train, type = \"class\") == d.train$Type) / nrow(d.train) * 100, \"%\")\n",
    "paste(\"Prediction accuracy:\",\n",
    "      sum(predict(d.fitRF, d.test, type = \"class\") == d.test$Type) / nrow(d.test) * 100, \"%\")"
   ]
  },
  {
   "cell_type": "code",
   "execution_count": null,
   "metadata": {
    "collapsed": true
   },
   "outputs": [],
   "source": []
  }
 ],
 "metadata": {
  "kernelspec": {
   "display_name": "R",
   "language": "R",
   "name": "ir"
  },
  "language_info": {
   "codemirror_mode": "r",
   "file_extension": ".r",
   "mimetype": "text/x-r-source",
   "name": "R",
   "pygments_lexer": "r",
   "version": "3.4.0"
  }
 },
 "nbformat": 4,
 "nbformat_minor": 2
}
